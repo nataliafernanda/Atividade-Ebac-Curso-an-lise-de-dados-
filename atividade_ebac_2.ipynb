{
  "nbformat": 4,
  "nbformat_minor": 0,
  "metadata": {
    "colab": {
      "provenance": []
    },
    "kernelspec": {
      "name": "python3",
      "display_name": "Python 3"
    },
    "language_info": {
      "name": "python"
    }
  },
  "cells": [
    {
      "cell_type": "code",
      "source": [
        "# Criando a lista de filmes com os 10 primeiros do IMDB\n",
        "filmes = [\n",
        "    \"Um Sonho de Liberdade\",\n",
        "    \"O Poderoso Chefão\",\n",
        "    \"O Poderoso Chefão: Parte II\",\n",
        "    \"Batman: O Cavaleiro das Trevas\",\n",
        "    \"12 Homens e uma Sentença\",\n",
        "    \"A Lista de Schindler\",\n",
        "    \"O Senhor dos Anéis: O Retorno do Rei\",\n",
        "    \"Pulp Fiction: Tempo de Violência\",\n",
        "    \"O Bom, o Mau e o Vilão\",\n",
        "    \"Clube da Luta\"\n",
        "]\n",
        "\n",
        "print(\"Lista original de filmes:\")\n",
        "for i, filme in enumerate(filmes, start=1):\n",
        "    print(f\"{i}. {filme}\")\n",
        "\n",
        "primeiro_filme = filmes.pop(0)\n",
        "filmes.insert(1, primeiro_filme)\n",
        "\n",
        "print(\"\\nLista de filmes após a troca de posições entre o primeiro e o segundo:\")\n",
        "for i, filme in enumerate(filmes, start=1):\n",
        "    print(f\"{i}. {filme}\")\n"
      ],
      "metadata": {
        "colab": {
          "base_uri": "https://localhost:8080/"
        },
        "id": "nH7RTOTimxFe",
        "outputId": "8333685c-b6ec-4aae-fcd0-71bb1b8affae"
      },
      "execution_count": null,
      "outputs": [
        {
          "output_type": "stream",
          "name": "stdout",
          "text": [
            "Lista original de filmes:\n",
            "1. Um Sonho de Liberdade\n",
            "2. O Poderoso Chefão\n",
            "3. O Poderoso Chefão: Parte II\n",
            "4. Batman: O Cavaleiro das Trevas\n",
            "5. 12 Homens e uma Sentença\n",
            "6. A Lista de Schindler\n",
            "7. O Senhor dos Anéis: O Retorno do Rei\n",
            "8. Pulp Fiction: Tempo de Violência\n",
            "9. O Bom, o Mau e o Vilão\n",
            "10. Clube da Luta\n",
            "\n",
            "Lista de filmes após a troca de posições entre o primeiro e o segundo:\n",
            "1. O Poderoso Chefão\n",
            "2. Um Sonho de Liberdade\n",
            "3. O Poderoso Chefão: Parte II\n",
            "4. Batman: O Cavaleiro das Trevas\n",
            "5. 12 Homens e uma Sentença\n",
            "6. A Lista de Schindler\n",
            "7. O Senhor dos Anéis: O Retorno do Rei\n",
            "8. Pulp Fiction: Tempo de Violência\n",
            "9. O Bom, o Mau e o Vilão\n",
            "10. Clube da Luta\n"
          ]
        }
      ]
    },
    {
      "cell_type": "code",
      "source": [
        "# Duplicando os três últimos filmes da lista\n",
        "ultimos_filmes = filmes[-3:]  # Pegando os últimos três filmes da lista\n",
        "\n",
        "# Adicionando os filmes duplicados de volta à lista\n",
        "filmes.extend(ultimos_filmes)\n",
        "\n",
        "# Exibindo o resultado da duplicação\n",
        "print(\"\\nLista de filmes após a duplicação dos três últimos filmes:\")\n",
        "for i, filme in enumerate(filmes, start=1):\n",
        "    print(f\"{i}. {filme}\")\n"
      ],
      "metadata": {
        "colab": {
          "base_uri": "https://localhost:8080/"
        },
        "id": "fnH_JL6Am-sr",
        "outputId": "e13028d4-6696-4399-afba-19d674d90cae"
      },
      "execution_count": null,
      "outputs": [
        {
          "output_type": "stream",
          "name": "stdout",
          "text": [
            "\n",
            "Lista de filmes após a duplicação dos três últimos filmes:\n",
            "1. O Poderoso Chefão\n",
            "2. Um Sonho de Liberdade\n",
            "3. O Poderoso Chefão: Parte II\n",
            "4. Batman: O Cavaleiro das Trevas\n",
            "5. 12 Homens e uma Sentença\n",
            "6. A Lista de Schindler\n",
            "7. O Senhor dos Anéis: O Retorno do Rei\n",
            "8. Pulp Fiction: Tempo de Violência\n",
            "9. O Bom, o Mau e o Vilão\n",
            "10. Clube da Luta\n",
            "11. Pulp Fiction: Tempo de Violência\n",
            "12. O Bom, o Mau e o Vilão\n",
            "13. Clube da Luta\n"
          ]
        }
      ]
    },
    {
      "cell_type": "code",
      "source": [
        "ultimos_filmes = filmes[-3:]\n",
        "\n",
        "filmes.extend(ultimos_filmes)\n",
        "\n",
        "print(\"\\nLista de filmes após a duplicação dos três últimos filmes:\")\n",
        "for i, filme in enumerate(filmes, start=1):\n",
        "    print(f\"{i}. {filme}\")\n"
      ],
      "metadata": {
        "colab": {
          "base_uri": "https://localhost:8080/"
        },
        "id": "1cxUHNcEnX6b",
        "outputId": "9b427f85-d25c-4892-eaa8-fa7144bc9682"
      },
      "execution_count": null,
      "outputs": [
        {
          "output_type": "stream",
          "name": "stdout",
          "text": [
            "\n",
            "Lista de filmes após a duplicação dos três últimos filmes:\n",
            "1. O Poderoso Chefão\n",
            "2. Um Sonho de Liberdade\n",
            "3. O Poderoso Chefão: Parte II\n",
            "4. Batman: O Cavaleiro das Trevas\n",
            "5. 12 Homens e uma Sentença\n",
            "6. A Lista de Schindler\n",
            "7. O Senhor dos Anéis: O Retorno do Rei\n",
            "8. Pulp Fiction: Tempo de Violência\n",
            "9. O Bom, o Mau e o Vilão\n",
            "10. Clube da Luta\n",
            "11. Pulp Fiction: Tempo de Violência\n",
            "12. O Bom, o Mau e o Vilão\n",
            "13. Clube da Luta\n",
            "14. Pulp Fiction: Tempo de Violência\n",
            "15. O Bom, o Mau e o Vilão\n",
            "16. Clube da Luta\n",
            "17. Pulp Fiction: Tempo de Violência\n",
            "18. O Bom, o Mau e o Vilão\n",
            "19. Clube da Luta\n"
          ]
        }
      ]
    },
    {
      "cell_type": "code",
      "source": [
        "filmes_sem_duplicatas = list(set(filmes))\n",
        "# Exibindo a lista de filmes sem valores duplicado\n",
        "print(\"\\nLista de filmes sem valores duplicados:\")\n",
        "for i, filme in enumerate(filmes_sem_duplicatas, start=1):\n",
        "    print(f\"{i}. {filme}\")\n"
      ],
      "metadata": {
        "colab": {
          "base_uri": "https://localhost:8080/"
        },
        "id": "ooSE6k14nx6B",
        "outputId": "cdb632a3-5371-4426-fbdf-e60291ae71b9"
      },
      "execution_count": null,
      "outputs": [
        {
          "output_type": "stream",
          "name": "stdout",
          "text": [
            "\n",
            "Lista de filmes sem valores duplicados:\n",
            "1. Batman: O Cavaleiro das Trevas\n",
            "2. O Senhor dos Anéis: O Retorno do Rei\n",
            "3. Pulp Fiction: Tempo de Violência\n",
            "4. Clube da Luta\n",
            "5. O Poderoso Chefão\n",
            "6. A Lista de Schindler\n",
            "7. O Poderoso Chefão: Parte II\n",
            "8. Um Sonho de Liberdade\n",
            "9. O Bom, o Mau e o Vilão\n",
            "10. 12 Homens e uma Sentença\n"
          ]
        }
      ]
    },
    {
      "cell_type": "code",
      "source": [
        "# Criando a lista de filmes com informações adicionais\n",
        "filmes = [\n",
        "    {'nome': 'Um Sonho de Liberdade', 'ano': 1994, 'sinopse': 'Drama sobre a vida de um prisioneiro que busca a liberdade.'},\n",
        "    {'nome': 'O Poderoso Chefão', 'ano': 1972, 'sinopse': 'Um épico sobre uma família mafiosa nos Estados Unidos.'},\n",
        "    {'nome': 'O Poderoso Chefão: Parte II', 'ano': 1974, 'sinopse': 'Continuação da saga da família Corleone.'},\n",
        "    {'nome': 'Batman: O Cavaleiro das Trevas', 'ano': 2008, 'sinopse': 'O confronto entre Batman e o vilão Coringa.'},\n",
        "    {'nome': '12 Homens e uma Sentença', 'ano': 1957, 'sinopse': 'Um júri decide o destino de um jovem acusado de assassinato.'},\n",
        "    {'nome': 'A Lista de Schindler', 'ano': 1993, 'sinopse': 'Um empresário tenta salvar judeus durante o Holocausto.'},\n",
        "    {'nome': 'O Senhor dos Anéis: O Retorno do Rei', 'ano': 2003, 'sinopse': 'A conclusão da jornada para destruir o Um Anel.'},\n",
        "    {'nome': 'Pulp Fiction: Tempo de Violência', 'ano': 1994, 'sinopse': 'Histórias entrelaçadas de criminosos em Los Angeles.'},\n",
        "    {'nome': 'O Bom, o Mau e o Vilão', 'ano': 1966, 'sinopse': 'Três homens disputam um tesouro durante a Guerra Civil Americana.'},\n",
        "    {'nome': 'Clube da Luta', 'ano': 1999, 'sinopse': 'Um homem cria um clube secreto de luta para confrontar seu vazio existencial.'}\n",
        "]\n",
        "\n",
        "# Exibindo a lista de filmes com informações completas\n",
        "print(\"Lista de filmes com informações adicionais:\")\n",
        "for i, filme in enumerate(filmes, start=1):\n",
        "    print(f\"{i}. {filme['nome']} ({filme['ano']}) - Sinopse: {filme['sinopse']}\")\n"
      ],
      "metadata": {
        "colab": {
          "base_uri": "https://localhost:8080/"
        },
        "id": "LNOQlkQsoJaL",
        "outputId": "aa06962d-73e1-4f9c-da53-7a4b877699c1"
      },
      "execution_count": null,
      "outputs": [
        {
          "output_type": "stream",
          "name": "stdout",
          "text": [
            "Lista de filmes com informações adicionais:\n",
            "1. Um Sonho de Liberdade (1994) - Sinopse: Drama sobre a vida de um prisioneiro que busca a liberdade.\n",
            "2. O Poderoso Chefão (1972) - Sinopse: Um épico sobre uma família mafiosa nos Estados Unidos.\n",
            "3. O Poderoso Chefão: Parte II (1974) - Sinopse: Continuação da saga da família Corleone.\n",
            "4. Batman: O Cavaleiro das Trevas (2008) - Sinopse: O confronto entre Batman e o vilão Coringa.\n",
            "5. 12 Homens e uma Sentença (1957) - Sinopse: Um júri decide o destino de um jovem acusado de assassinato.\n",
            "6. A Lista de Schindler (1993) - Sinopse: Um empresário tenta salvar judeus durante o Holocausto.\n",
            "7. O Senhor dos Anéis: O Retorno do Rei (2003) - Sinopse: A conclusão da jornada para destruir o Um Anel.\n",
            "8. Pulp Fiction: Tempo de Violência (1994) - Sinopse: Histórias entrelaçadas de criminosos em Los Angeles.\n",
            "9. O Bom, o Mau e o Vilão (1966) - Sinopse: Três homens disputam um tesouro durante a Guerra Civil Americana.\n",
            "10. Clube da Luta (1999) - Sinopse: Um homem cria um clube secreto de luta para confrontar seu vazio existencial.\n"
          ]
        }
      ]
    }
  ]
}